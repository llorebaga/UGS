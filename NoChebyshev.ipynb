{
 "cells": [
  {
   "cell_type": "code",
   "execution_count": 1,
   "id": "1075c4f1-7a76-402d-8317-61f53bb0ecd3",
   "metadata": {},
   "outputs": [],
   "source": [
    "using TSSOS\n",
    "using LinearAlgebra\n",
    "using QuantumOptics\n",
    "using DynamicPolynomials\n",
    "using QuadGK\n",
    "using JuMP\n",
    "using Random\n",
    "using NLopt"
   ]
  },
  {
   "cell_type": "markdown",
   "id": "f451cd05-a3a0-4a6d-b8f8-c064c3af17f6",
   "metadata": {},
   "source": [
    "## Define the quantum system"
   ]
  },
  {
   "cell_type": "code",
   "execution_count": 2,
   "id": "26d079c9-a23b-4226-b5f6-f11d64b4c7d4",
   "metadata": {},
   "outputs": [],
   "source": [
    "# We look at a typical Hamiltonian\n",
    "\n",
    "#Drift Hamiltonian\n",
    "\n",
    "H0 = [\n",
    "    0 0 0;\n",
    "    0 0.515916 0;\n",
    "    0 0 1\n",
    "];\n",
    "\n",
    "H0 ./= norm(H0, Inf)\n",
    "\n",
    "# Control Hamiltonian\n",
    "V = [\n",
    "    0 0.707107 0;\n",
    "    0.707107 0 1;\n",
    "    0 1 0\n",
    "]\n",
    "\n",
    "V ./= norm(V, Inf);"
   ]
  },
  {
   "cell_type": "code",
   "execution_count": 3,
   "id": "a84eb06d-0da6-41ea-a0d2-4a46c8f1065d",
   "metadata": {},
   "outputs": [
    {
     "data": {
      "text/plain": [
       "3×3 Matrix{Float64}:\n",
       " 0.0       -0.364808   0.0\n",
       " 0.364808   0.0       -0.484084\n",
       " 0.0        0.484084   0.0"
      ]
     },
     "execution_count": 3,
     "metadata": {},
     "output_type": "execute_result"
    }
   ],
   "source": [
    "H0*V-V*H0"
   ]
  },
  {
   "cell_type": "markdown",
   "id": "451f2a11-4bc1-4f13-b7eb-aea40acd20fd",
   "metadata": {},
   "source": [
    "## Useful functions with polynomials"
   ]
  },
  {
   "cell_type": "code",
   "execution_count": 4,
   "id": "f4c86008-506a-4a86-a8af-7552d9553211",
   "metadata": {},
   "outputs": [
    {
     "data": {
      "text/plain": [
       "square_frobenius_norm2 (generic function with 1 method)"
      ]
     },
     "execution_count": 4,
     "metadata": {},
     "output_type": "execute_result"
    }
   ],
   "source": [
    "function ∫(p::AbstractPolynomial, x::PolyVar, x_lower, x_upper)\n",
    "    \n",
    "    # get the index of the variable of integration\n",
    "    ind_x = indexin([x], variables(p))[1]\n",
    "        \n",
    "    if isnothing(ind_x)\n",
    "        # integration valuable is not found among vars\n",
    "        return p * (x_upper - x_lower)\n",
    "    end\n",
    "    \n",
    "    # get the indefinite integral\n",
    "    int_p = sum(\n",
    "        term * x * 1 // (exponents(term)[ind_x] + 1) for term in terms(p)\n",
    "        init = 0 * x\n",
    "    )\n",
    "            \n",
    "    # get the definite integral\n",
    "    subs(int_p, x=>x_upper) - subs(int_p, x=>x_lower)\n",
    "end\n",
    "\n",
    "function ∫(M::AbstractMatrix, x::PolyVar, x_lower, x_upper)\n",
    "   map(z -> ∫(z, x, x_lower, x_upper), M) \n",
    "end\n",
    "\n",
    "function real_poly(p::Polynomial)\n",
    "    #=\n",
    "    Real part of the polynomial\n",
    "    =#\n",
    "    sum(\n",
    "        real(c) * m for (c, m) in zip(coefficients(p), monomials(p))# if ~isapproxzero(abs(c))\n",
    "    )\n",
    "end\n",
    "\n",
    "function square_frobenius_norm(M::AbstractArray)\n",
    "    #=\n",
    "    Square of the Frobenius norm of a matrix\n",
    "    =#\n",
    "    real_poly(sum(z' * z for z in M))\n",
    "end\n",
    "\n",
    "function square_frobenius_norm2(M::AbstractArray)\n",
    "    #=\n",
    "    Square of the Frobenius norm of a matrix\n",
    "    =#\n",
    "    sum(z' * z for z in M)\n",
    "end"
   ]
  },
  {
   "cell_type": "markdown",
   "id": "fbe3b5ec-1ce9-45e1-80d2-163ff61b8d3c",
   "metadata": {},
   "source": [
    "## Magnus expansion"
   ]
  },
  {
   "cell_type": "code",
   "execution_count": 5,
   "id": "311f547b-a70e-4114-8c4d-5a7071635e2e",
   "metadata": {},
   "outputs": [],
   "source": [
    "@polyvar x[1:3]\n",
    "@polyvar t[1:3]\n",
    "\n",
    "# final time\n",
    "const T = 0.5\n",
    "\n",
    "function u(t, x)\n",
    "    # the polynomial shape for control\n",
    "    sum(x[n] * t^(n - 1) for n = 1:length(x))\n",
    "end\n",
    "\n",
    "function A(t, x,)\n",
    "    #=\n",
    "    The generator of motion entering the Magnus expansion\n",
    "    =#\n",
    "    (H0 + V * u(t, x)) / im\n",
    "end\n",
    "\n",
    "function commutator(a, b)\n",
    "    a * b - b * a\n",
    "end \n",
    "\n",
    "# get the partial sum of the Magnus expansion\n",
    "A₁ = A(t[1], x)\n",
    "A₂ = A(t[2], x)\n",
    "\n",
    "Ω = ∫(A₁, t[1], 0, T);\n",
    "\n",
    "# 2nd term in the Magnus expansion\n",
    "Ω .+= 1//2 * ∫(∫(\n",
    "    commutator(A₁, A₂), \n",
    "    t[2], 0, t[1]), \n",
    "    t[1], 0, T\n",
    ");\n",
    "\n",
    "# 3nd term in the Magnus expansion\n",
    "\n",
    "A₃ = A(t[3], x)\n",
    "\n",
    "Ω .+= 1//6 * ∫(∫(∫(\n",
    "    commutator(A₁, commutator(A₂, A₃)) + commutator(commutator(A₁, A₂), A₃),\n",
    "    t[3], 0, t[2]),\n",
    "    t[2], 0, t[1]),\n",
    "    t[1], 0, T\n",
    ");\n"
   ]
  },
  {
   "cell_type": "code",
   "execution_count": 6,
   "id": "f21f1a07-ac4f-4008-9b36-71daea8e18ae",
   "metadata": {},
   "outputs": [
    {
     "name": "stdout",
     "output_type": "stream",
     "text": [
      "Polynomial{true}[(0.0 + 4.4784402716960125e-5im)x₁x₃ + (0.0 - 6.717660407544019e-5im)x₂² + (0.0 - 5.5980503396200154e-5im)x₂x₃ + (0.0 - 1.3328691284809559e-5im)x₃² (0.0 - 0.3535535im)x₁ + (-0.0038000814063750003 - 0.088388375im)x₂ + (-0.0019000407031875004 - 0.02944645397667624im)x₃ (0.0 + 1.953874134027782e-6im)x₁x₃ + (0.0 - 2.930811201041674e-6im)x₂² + (0.0 - 2.442342667534728e-6im)x₂x₃ + (0.0 - 5.8151015893684e-7im)x₃²; (0.0 - 0.3535535im)x₁ + (0.0038000814063750003 - 0.088388375im)x₂ + (0.0019000407031875004 - 0.02944645397667624im)x₃ (0.0 + 7.228014483236696e-20im)x₁x₂ + (0.0 + 3.925795839415097e-5im)x₁x₃ + (0.0 - 5.888693759122647e-5im)x₂² + (0.0 - 4.907244799268873e-5im)x₂x₃ + (0.0 - 1.168391618873541e-5im)x₃² + (0.0 - 0.257958im) (0.0 - 0.5im)x₁ + (-0.005042541666666666 - 0.125im)x₂ + (-0.0025212708333333333 - 0.04164632488549861im)x₃; (0.0 + 1.953874134027782e-6im)x₁x₃ + (0.0 - 2.930811201041674e-6im)x₂² + (0.0 - 2.442342667534728e-6im)x₂x₃ + (0.0 - 5.8151015893684e-7im)x₃² (0.0 - 0.5im)x₁ + (0.005042541666666666 - 0.125im)x₂ + (0.0025212708333333333 - 0.04164632488549861im)x₃ (0.0 - 8.404236111111107e-5im)x₁x₃ + (0.0 + 0.00012606354166666664im)x₂² + (0.0 + 0.00010505295138888888im)x₂x₃ + (0.0 + 2.5012607473544968e-5im)x₃² + (0.0 - 0.5im)]\n"
     ]
    }
   ],
   "source": [
    "println(Ω)"
   ]
  },
  {
   "cell_type": "markdown",
   "id": "72368a6a-5893-4ecc-8ba1-e42db9df9b18",
   "metadata": {},
   "source": [
    "## Get random unitary target"
   ]
  },
  {
   "cell_type": "code",
   "execution_count": 7,
   "id": "5a8645ef-d5eb-4afb-926a-e8eee317dbbe",
   "metadata": {},
   "outputs": [
    {
     "data": {
      "text/plain": [
       "get_unitary (generic function with 1 method)"
      ]
     },
     "execution_count": 7,
     "metadata": {},
     "output_type": "execute_result"
    }
   ],
   "source": [
    "Random.seed!(65)\n",
    "exact_x = -1 .+ 2 * rand(3)\n",
    "\n",
    "function get_unitary(x::AbstractArray)\n",
    "    #=\n",
    "    Get the unitary given the coefficients for the polynomial control\n",
    "    =#\n",
    "    basis = NLevelBasis(size(H0)[1])\n",
    "\n",
    "    𝓗₀ = DenseOperator(basis, basis, H0)\n",
    "    𝓥 = DenseOperator(basis, basis, V)\n",
    "\n",
    "    H = LazySum([1., u(0, x)], [𝓗₀, 𝓥])\n",
    "        \n",
    "    function 𝓗(t, psi)\n",
    "        H.factors[2] = u(t, x)\n",
    "        return H\n",
    "    end\n",
    "\n",
    "    _, 𝓤 = timeevolution.schroedinger_dynamic([0, T], identityoperator(basis, basis), 𝓗)\n",
    "    \n",
    "    return Matrix(𝓤[2].data)\n",
    "end"
   ]
  },
  {
   "cell_type": "code",
   "execution_count": 8,
   "id": "9c84d4fe-a670-4b23-8d72-8a149e4bfa3e",
   "metadata": {},
   "outputs": [
    {
     "data": {
      "text/plain": [
       "3-element Vector{Float64}:\n",
       " -0.1874836569137377\n",
       " -0.8380629706479825\n",
       " -0.3946330275188754"
      ]
     },
     "execution_count": 8,
     "metadata": {},
     "output_type": "execute_result"
    }
   ],
   "source": [
    "exact_x"
   ]
  },
  {
   "cell_type": "code",
   "execution_count": 9,
   "id": "974c14f5-3e64-4ccb-aba0-08476b1efb53",
   "metadata": {},
   "outputs": [
    {
     "data": {
      "text/plain": [
       "3×3 Matrix{ComplexF64}:\n",
       "   0.988573+0.000915344im  0.0229879+0.1481im    -0.0154305+0.00481831im\n",
       "  0.0152846+0.149092im       0.93396-0.245578im   0.0832998+0.19496im\n",
       " -0.0158348+0.00324486im   0.0737072+0.198785im    0.856689-0.469973im"
      ]
     },
     "execution_count": 9,
     "metadata": {},
     "output_type": "execute_result"
    }
   ],
   "source": [
    "U_target=get_unitary(exact_x)"
   ]
  },
  {
   "cell_type": "code",
   "execution_count": 10,
   "id": "6cf0f830-083f-42b8-ae6b-c1186ee1b34e",
   "metadata": {},
   "outputs": [
    {
     "data": {
      "text/plain": [
       "Eigen{ComplexF64, ComplexF64, Matrix{ComplexF64}, Vector{ComplexF64}}\n",
       "values:\n",
       "3-element Vector{ComplexF64}:\n",
       " 0.8048207561278221 - 0.5935179319537021im\n",
       " 0.9781662887906366 - 0.20782374776455456im\n",
       " 0.9962339862643255 + 0.08670550462022175im\n",
       "vectors:\n",
       "3×3 Matrix{ComplexF64}:\n",
       "  0.126429-0.00636229im  -0.504082+0.0130641im  0.854228+0.0im\n",
       " -0.528858+0.0128848im    0.694153+0.0im         0.48799+0.0126479im\n",
       "  0.839117+0.0im          0.513542+0.0125125im  0.178658+0.00898771im"
      ]
     },
     "execution_count": 10,
     "metadata": {},
     "output_type": "execute_result"
    }
   ],
   "source": [
    "F= eigen(U_target)"
   ]
  },
  {
   "cell_type": "code",
   "execution_count": 11,
   "id": "6c5d703c-e4b7-447e-b1e3-e42b45af2691",
   "metadata": {},
   "outputs": [
    {
     "data": {
      "text/plain": [
       "3×3 Diagonal{ComplexF64, Vector{ComplexF64}}:\n",
       " 0.804821-0.593518im           ⋅                    ⋅    \n",
       "          ⋅           0.978166-0.207824im           ⋅    \n",
       "          ⋅                    ⋅           0.996234+0.0867055im"
      ]
     },
     "execution_count": 11,
     "metadata": {},
     "output_type": "execute_result"
    }
   ],
   "source": [
    "X = F.vectors\n",
    "L = Diagonal(F.values)"
   ]
  },
  {
   "cell_type": "code",
   "execution_count": 12,
   "id": "fca95538-ad71-463d-b14a-bdb0904bf296",
   "metadata": {},
   "outputs": [
    {
     "data": {
      "text/plain": [
       "3×3 Matrix{ComplexF64}:\n",
       "   0.988573+0.000915344im  0.0229879+0.1481im    -0.0154305+0.00481831im\n",
       "  0.0152846+0.149092im       0.93396-0.245578im   0.0832998+0.19496im\n",
       " -0.0158348+0.00324486im   0.0737072+0.198785im    0.856689-0.469973im"
      ]
     },
     "execution_count": 12,
     "metadata": {},
     "output_type": "execute_result"
    }
   ],
   "source": [
    "X*L*inv(X)"
   ]
  },
  {
   "cell_type": "code",
   "execution_count": 17,
   "id": "1c3cc59a-3681-4176-a593-76f56cd7188c",
   "metadata": {},
   "outputs": [
    {
     "data": {
      "text/plain": [
       "3×3 Diagonal{ComplexF64, Vector{ComplexF64}}:\n",
       " -7.47762e-9-0.635423im               ⋅                       ⋅    \n",
       "             ⋅           -6.69324e-10-0.20935im               ⋅    \n",
       "             ⋅                        ⋅          -4.02222e-11+0.0868145im"
      ]
     },
     "execution_count": 17,
     "metadata": {},
     "output_type": "execute_result"
    }
   ],
   "source": [
    "n= 0\n",
    "theta_values = [log(λ) for λ in F.values]\n",
    "K = Diagonal(theta_values + 2*pi*im*n*[1,1,1])"
   ]
  },
  {
   "cell_type": "code",
   "execution_count": null,
   "id": "b58f8f6f-edd9-4bc7-9b2f-392b67f43b5a",
   "metadata": {},
   "outputs": [],
   "source": []
  },
  {
   "cell_type": "markdown",
   "id": "d1993f6c-3502-443f-a44f-ff70a8d9b19a",
   "metadata": {},
   "source": [
    "## TSSOS"
   ]
  },
  {
   "cell_type": "code",
   "execution_count": 32,
   "id": "a1e2835c-9ead-4080-afad-7c97cbda99a7",
   "metadata": {},
   "outputs": [
    {
     "name": "stdout",
     "output_type": "stream",
     "text": [
      "*********************************** TSSOS ***********************************\n",
      "TSSOS is launching...\n",
      "optimum = 2.8689630976624563e-8\n",
      "Global optimality certified with relative optimality gap 0.000003%!\n",
      "No higher TS step of the TSSOS hierarchy!\n",
      "[-0.18898455444753834, -0.816553648388228, -0.4408514842701129]\n"
     ]
    }
   ],
   "source": [
    "obj = square_frobenius_norm(\n",
    "        Ω - X*K*inv(X)\n",
    "    );\n",
    "\n",
    "# Get the global minimum via TSSOS library\n",
    "opt,sol,data = tssos_first(obj, variables(obj); QUIET = true, solution = true);\n",
    "\n",
    "previous_sol = sol\n",
    "previous_opt = opt\n",
    "    \n",
    "    while ~isnothing(sol)\n",
    "        previous_sol = sol\n",
    "        previous_opt = opt\n",
    "            \n",
    "        opt,sol,data = tssos_higher!(data; QUIET = true, solution = true)\n",
    "    end\n",
    "println(previous_sol)"
   ]
  },
  {
   "cell_type": "code",
   "execution_count": 33,
   "id": "468580e6-dba1-436a-8883-76f221412171",
   "metadata": {},
   "outputs": [
    {
     "name": "stdout",
     "output_type": "stream",
     "text": [
      "2.8689630976624563e-8\n"
     ]
    }
   ],
   "source": [
    "println(previous_opt)"
   ]
  },
  {
   "cell_type": "code",
   "execution_count": 26,
   "id": "dfd347bd-cb6f-4a04-9482-c63f777cca72",
   "metadata": {},
   "outputs": [
    {
     "name": "stdout",
     "output_type": "stream",
     "text": [
      "5.224419336987944e-39*x[1]^2*x[2]^2 + 5.675141837104536e-24*x[1]^2*x[2]*x[3] + 1.0617583733385394e-8*x[1]^2*x[3]^2 - 8.512712755656808e-24*x[1]*x[2]^3 - 3.18527512001562e-8*x[1]*x[2]^2*x[3] - 2.6543959333463494e-8*x[1]*x[2]*x[3]^2 - 6.319990317491306e-9*x[1]*x[3]^3 + 2.388956340011715e-8*x[2]^4 + 3.981593900019525e-8*x[2]^3*x[3] + 2.6069960059651652e-8*x[2]^2*x[3]^2 + 7.899987896864136e-9*x[2]*x[3]^3 + 9.404747496266827e-10*x[3]^4 + 0.7500001547245001*x[1]^2 + 0.37500007736225005*x[1]*x[2] + 0.12493626794835613*x[1]*x[3] + 0.04695469929080999*x[2]^2 + 0.03131375660761778*x[2]*x[3] + 0.005222944838285926*x[3]^2 + 0.6448029335963948*x[1] + 0.1613662312875644*x[2] + 0.053788906056044694*x[3] + 0.13867614414243581\n"
     ]
    }
   ],
   "source": [
    "println(obj)"
   ]
  },
  {
   "cell_type": "markdown",
   "id": "638f1f53-03dd-4bc6-a334-cd1801432d74",
   "metadata": {},
   "source": [
    "## Check how close unitary is"
   ]
  },
  {
   "cell_type": "code",
   "execution_count": 27,
   "id": "ed0e542b-f689-4689-b7c0-88d4d2f0b3f2",
   "metadata": {},
   "outputs": [
    {
     "name": "stdout",
     "output_type": "stream",
     "text": [
      "[-0.1874836569137377, -0.8380629706479825, -0.3946330275188754][-0.18898455444753834, -0.816553648388228, -0.4408514842701129]\n"
     ]
    }
   ],
   "source": [
    "println(exact_x, previous_sol)"
   ]
  },
  {
   "cell_type": "code",
   "execution_count": 28,
   "id": "94547416-e5b9-4aea-ab54-ed45a5781a65",
   "metadata": {},
   "outputs": [
    {
     "data": {
      "text/plain": [
       "3×3 Matrix{ComplexF64}:\n",
       "   0.988574+0.000915874im  0.0229926+0.14809im   -0.0154282+0.004819im\n",
       "  0.0152774+0.149084im      0.933964-0.245579im   0.0833026+0.194945im\n",
       " -0.0158331+0.0032432im     0.073695+0.198776im    0.856691-0.469975im"
      ]
     },
     "execution_count": 28,
     "metadata": {},
     "output_type": "execute_result"
    }
   ],
   "source": [
    "get_unitary(previous_sol)"
   ]
  },
  {
   "cell_type": "code",
   "execution_count": 29,
   "id": "a2189ee8-c368-4f9f-88ff-fbc826a7ea9c",
   "metadata": {},
   "outputs": [
    {
     "data": {
      "text/plain": [
       "3×3 Matrix{ComplexF64}:\n",
       "   0.988573+0.000915344im  0.0229879+0.1481im    -0.0154305+0.00481831im\n",
       "  0.0152846+0.149092im       0.93396-0.245578im   0.0832998+0.19496im\n",
       " -0.0158348+0.00324486im   0.0737072+0.198785im    0.856689-0.469973im"
      ]
     },
     "execution_count": 29,
     "metadata": {},
     "output_type": "execute_result"
    }
   ],
   "source": [
    "get_unitary(exact_x)"
   ]
  },
  {
   "cell_type": "code",
   "execution_count": 30,
   "id": "9588551f-c8f0-43bd-9cc2-203ca6e4638a",
   "metadata": {},
   "outputs": [
    {
     "data": {
      "text/plain": [
       "7.441337008412143e-10 + 0.0im"
      ]
     },
     "execution_count": 30,
     "metadata": {},
     "output_type": "execute_result"
    }
   ],
   "source": [
    "square_frobenius_norm2(get_unitary(previous_sol)-get_unitary(exact_x))"
   ]
  },
  {
   "cell_type": "code",
   "execution_count": 31,
   "id": "5a55cef7-c7a1-4cc4-9ef9-28a52b0889be",
   "metadata": {},
   "outputs": [
    {
     "name": "stdout",
     "output_type": "stream",
     "text": [
      "nothing\n"
     ]
    }
   ],
   "source": [
    "println(opt)"
   ]
  },
  {
   "cell_type": "code",
   "execution_count": null,
   "id": "3d87db55-5a67-4ed6-ae94-e7c3d08cf13c",
   "metadata": {},
   "outputs": [],
   "source": []
  },
  {
   "cell_type": "code",
   "execution_count": null,
   "id": "454c0235-959d-4b85-93a3-a9dbff906980",
   "metadata": {},
   "outputs": [],
   "source": []
  },
  {
   "cell_type": "code",
   "execution_count": null,
   "id": "3cd4857c-b9e2-47f0-aaf0-e696a5dc0272",
   "metadata": {},
   "outputs": [],
   "source": []
  },
  {
   "cell_type": "code",
   "execution_count": null,
   "id": "72f148b2-53f2-49f7-8205-01b0849d5cd4",
   "metadata": {},
   "outputs": [],
   "source": []
  },
  {
   "cell_type": "code",
   "execution_count": null,
   "id": "53299ac1-e998-4d59-b888-3bc8eb4d5b2e",
   "metadata": {},
   "outputs": [],
   "source": []
  }
 ],
 "metadata": {
  "kernelspec": {
   "display_name": "Julia 1.10.5",
   "language": "julia",
   "name": "julia-1.10"
  },
  "language_info": {
   "file_extension": ".jl",
   "mimetype": "application/julia",
   "name": "julia",
   "version": "1.10.5"
  }
 },
 "nbformat": 4,
 "nbformat_minor": 5
}
